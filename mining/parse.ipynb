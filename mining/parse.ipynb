{
 "cells": [
  {
   "cell_type": "markdown",
   "metadata": {},
   "source": [
    "# Parsing basics: JS and TS\n",
    "\n"
   ]
  },
  {
   "cell_type": "code",
   "execution_count": 1,
   "metadata": {},
   "outputs": [],
   "source": [
    "from pathlib import Path\n",
    "from tree_sitter import Language, Parser\n",
    "from traverse_treesitter_tree import traverse_treesitter_tree"
   ]
  },
  {
   "cell_type": "code",
   "execution_count": 2,
   "metadata": {},
   "outputs": [
    {
     "data": {
      "text/plain": [
       "False"
      ]
     },
     "execution_count": 2,
     "metadata": {},
     "output_type": "execute_result"
    }
   ],
   "source": [
    "# build treesitter parser\n",
    "Language.build_library(\n",
    "    'build/langs.so',\n",
    "    [\n",
    "        'extern/tree-sitter-javascript'\n",
    "        # 'extern/tree-sitter-typescript'\n",
    "    ]\n",
    ")"
   ]
  },
  {
   "cell_type": "code",
   "execution_count": 3,
   "metadata": {},
   "outputs": [],
   "source": [
    "# load TS and JS parsers\n",
    "JS_LANG = Language('build/langs.so', 'javascript')\n",
    "# TS_LANG = Language('build/langs.so', 'typescript')\n",
    "js_parser = Parser()\n",
    "js_parser.set_language(JS_LANG)\n",
    "# ts_parser = Parser().set_language(TS_LANG)"
   ]
  },
  {
   "cell_type": "code",
   "execution_count": 4,
   "metadata": {},
   "outputs": [],
   "source": [
    "# get javascript files from example/js, excluding from node_modules and hidden files (.)\n",
    "js_files = []\n",
    "for file in Path('example/js').glob('**/*.js'):\n",
    "    if not file.name.startswith('.') and 'node_modules' not in str(file):\n",
    "        js_files.append(file)"
   ]
  },
  {
   "cell_type": "code",
   "execution_count": 5,
   "metadata": {},
   "outputs": [
    {
     "name": "stdout",
     "output_type": "stream",
     "text": [
      "example/js/CodeRibbon/lib/code-ribbon-tips-view.js\n",
      "example/js/CodeRibbon/lib/cr-common.js\n",
      "example/js/CodeRibbon/lib/cr-base.js\n",
      "example/js/CodeRibbon/lib/code-ribbon-statusbar-element.js\n",
      "example/js/CodeRibbon/lib/code-ribbon-ribbon-container.js\n"
     ]
    }
   ],
   "source": [
    "# display first 5 files newline separated\n",
    "print('\\n'.join(str(file) for file in js_files[:5]))"
   ]
  },
  {
   "cell_type": "code",
   "execution_count": 7,
   "metadata": {},
   "outputs": [],
   "source": [
    "# parse each file\n",
    "parsed_js_files = []\n",
    "for file in js_files:\n",
    "    try:\n",
    "        with open(file, 'r') as f:\n",
    "            parsed_js_files.append(js_parser.parse(bytes(f.read(), 'utf-8')))\n",
    "    except Exception as e:\n",
    "        print(f'Error parsing {file}: {e}')"
   ]
  },
  {
   "cell_type": "code",
   "execution_count": 13,
   "metadata": {},
   "outputs": [],
   "source": [
    "# use traverse_treesitter_tree to get all nodes that call a method\n",
    "calls = []\n",
    "for tree in parsed_js_files:\n",
    "    for node in traverse_treesitter_tree(tree):\n",
    "        if node.type == 'call_expression':\n",
    "            calls.append(node)"
   ]
  },
  {
   "cell_type": "code",
   "execution_count": 14,
   "metadata": {},
   "outputs": [
    {
     "data": {
      "text/plain": [
       "b'super()'"
      ]
     },
     "execution_count": 14,
     "metadata": {},
     "output_type": "execute_result"
    }
   ],
   "source": [
    "methods[1].text"
   ]
  }
 ],
 "metadata": {
  "interpreter": {
   "hash": "a791cf3f8cff7821e767940d09b37867ad2f8689299b718e9dbe55a4b5d4a34c"
  },
  "kernelspec": {
   "display_name": "Python 3.9.7 ('base')",
   "language": "python",
   "name": "python3"
  },
  "language_info": {
   "codemirror_mode": {
    "name": "ipython",
    "version": 3
   },
   "file_extension": ".py",
   "mimetype": "text/x-python",
   "name": "python",
   "nbconvert_exporter": "python",
   "pygments_lexer": "ipython3",
   "version": "3.9.7"
  },
  "orig_nbformat": 4
 },
 "nbformat": 4,
 "nbformat_minor": 2
}
