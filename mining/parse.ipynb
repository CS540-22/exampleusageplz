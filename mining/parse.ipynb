{
 "cells": [
  {
   "cell_type": "markdown",
   "metadata": {},
   "source": [
    "# Parsing basics: JS and TS\n"
   ]
  },
  {
   "cell_type": "code",
   "execution_count": 1,
   "metadata": {},
   "outputs": [],
   "source": [
    "from pathlib import Path\n",
    "from tree_sitter import Language, Parser\n",
    "from traverse_treesitter_tree import traverse_treesitter_tree"
   ]
  },
  {
   "cell_type": "code",
   "execution_count": null,
   "metadata": {},
   "outputs": [],
   "source": [
    "# build the cpp library\n",
    "Language.build_library(\n",
    "    'build/cpp.so',\n",
    "    [\n",
    "        'tree-sitter-cpp'\n",
    "    ]\n",
    ")"
   ]
  },
  {
   "cell_type": "code",
   "execution_count": 6,
   "metadata": {},
   "outputs": [],
   "source": [
    "# get javascript files from example/js, excluding from node_modules and hidden files (.)\n",
    "js_files = []\n",
    "for file in Path('example/js').glob('**/*.js'):\n",
    "    if not file.name.startswith('.') and 'node_modules' not in str(file):\n",
    "        js_files.append(file)"
   ]
  },
  {
   "cell_type": "code",
   "execution_count": 9,
   "metadata": {},
   "outputs": [
    {
     "name": "stdout",
     "output_type": "stream",
     "text": [
      "example/js/CodeRibbon/lib/code-ribbon-tips-view.js\n",
      "example/js/CodeRibbon/lib/cr-common.js\n",
      "example/js/CodeRibbon/lib/cr-base.js\n",
      "example/js/CodeRibbon/lib/code-ribbon-statusbar-element.js\n",
      "example/js/CodeRibbon/lib/code-ribbon-ribbon-container.js\n"
     ]
    }
   ],
   "source": [
    "# display first 5 files newline separated\n",
    "print('\\n'.join(str(file) for file in js_files[:5]))"
   ]
  },
  {
   "cell_type": "code",
   "execution_count": 12,
   "metadata": {},
   "outputs": [],
   "source": [
    "# function to call parser on a single file safely\n",
    "def parse_file(file):\n",
    "    try:\n",
    "        parsed_file = parse(file.read_text())\n",
    "    except Exception as e:\n",
    "        # attempt to recover from error by ignoring the \n",
    "\n",
    "        print(f'Error parsing {file}: {e}')"
   ]
  },
  {
   "cell_type": "code",
   "execution_count": 13,
   "metadata": {},
   "outputs": [
    {
     "name": "stdout",
     "output_type": "stream",
     "text": [
      "Error parsing example/js/CodeRibbon/lib/code-ribbon-tips-view.js: Line 2: ObjectPattern is not supported by ECMA 5.1.\n",
      "Error parsing example/js/CodeRibbon/lib/cr-common.js: Line 2: ObjectPattern is not supported by ECMA 5.1.\n",
      "Error parsing example/js/CodeRibbon/lib/cr-base.js: Line 157: ArrowFunctionExpression is not supported by ECMA 5.1.\n",
      "Error parsing example/js/CodeRibbon/lib/code-ribbon-statusbar-element.js: Line 2: ObjectPattern is not supported by ECMA 5.1.\n",
      "Error parsing example/js/CodeRibbon/lib/code-ribbon-ribbon-container.js: Line 8: ObjectPattern is not supported by ECMA 5.1.\n",
      "Error parsing example/js/CodeRibbon/lib/cr-texteditor-overrides.js: Line 5: ObjectPattern is not supported by ECMA 5.1.\n",
      "Error parsing example/js/CodeRibbon/lib/metrics-reporter.js: Line 2: ObjectPattern is not supported by ECMA 5.1.\n",
      "Error parsing example/js/CodeRibbon/lib/code-ribbon.js: Line 2: ObjectPattern is not supported by ECMA 5.1.\n",
      "Error parsing example/js/CodeRibbon/lib/code-ribbon-manager.js: Line 2: ObjectPattern is not supported by ECMA 5.1.\n",
      "Error parsing example/js/CodeRibbon/lib/code-ribbon-single-strip.js: Line 2: ObjectPattern is not supported by ECMA 5.1.\n",
      "Error parsing example/js/CodeRibbon/lib/code-ribbon-patch.js: Line 2: ObjectPattern is not supported by ECMA 5.1.\n",
      "Error parsing example/js/CodeRibbon/lib/atom/text-editor-overlay-component.js: Line 4: ClassDeclaration is not supported by ECMA 5.1.\n",
      "Error parsing example/js/CodeRibbon/lib/fuzzyfinder/get-icon-services.js: Line 2: ObjectPattern is not supported by ECMA 5.1.\n",
      "Error parsing example/js/CodeRibbon/lib/fuzzyfinder/project-view.js: Line 1: ObjectPattern is not supported by ECMA 5.1.\n",
      "Error parsing example/js/CodeRibbon/lib/fuzzyfinder/git-status-view.js: Line 7: ClassExpression is not supported by ECMA 5.1.\n",
      "Error parsing example/js/CodeRibbon/lib/fuzzyfinder/load-paths-handler.js: Line 7: ObjectPattern is not supported by ECMA 5.1.\n",
      "Error parsing example/js/CodeRibbon/lib/fuzzyfinder/buffer-view.js: Line 5: ClassExpression is not supported by ECMA 5.1.\n",
      "Error parsing example/js/CodeRibbon/lib/fuzzyfinder/default-file-icons.js: Line 4: ClassDeclaration is not supported by ECMA 5.1.\n",
      "Error parsing example/js/CodeRibbon/lib/fuzzyfinder/cr-project-view.js: Line 1: ObjectPattern is not supported by ECMA 5.1.\n",
      "Error parsing example/js/CodeRibbon/lib/fuzzyfinder/cr-fuzzy-finder-view.js: Line 12: ClassDeclaration is not supported by ECMA 5.1.\n",
      "Error parsing example/js/CodeRibbon/lib/fuzzyfinder/path-loader.js: Line 2: ObjectPattern is not supported by ECMA 5.1.\n",
      "Error parsing example/js/CodeRibbon/lib/fuzzyfinder/experiment-prompt.js: Line 39: ObjectPattern is not supported by ECMA 5.1.\n",
      "Error parsing example/js/CodeRibbon/lib/fuzzyfinder/cr-fake-reporter.js: Line 3: ClassExpression is not supported by ECMA 5.1.\n",
      "Error parsing example/js/CodeRibbon/spec/code-ribbon-spec.js: Line 3: ImportDeclaration is not supported by ECMA 5.1.\n",
      "Error parsing example/js/CodeRibbon/spec/code-ribbon-view-spec.js: Line 3: ImportDeclaration is not supported by ECMA 5.1.\n"
     ]
    }
   ],
   "source": [
    "# use pyjsparse to parse each file\n",
    "js_files_parsed = [parse_file(file) for file in js_files]"
   ]
  }
 ],
 "metadata": {
  "interpreter": {
   "hash": "a791cf3f8cff7821e767940d09b37867ad2f8689299b718e9dbe55a4b5d4a34c"
  },
  "kernelspec": {
   "display_name": "Python 3.9.7 ('base')",
   "language": "python",
   "name": "python3"
  },
  "language_info": {
   "codemirror_mode": {
    "name": "ipython",
    "version": 3
   },
   "file_extension": ".py",
   "mimetype": "text/x-python",
   "name": "python",
   "nbconvert_exporter": "python",
   "pygments_lexer": "ipython3",
   "version": "3.9.7"
  },
  "orig_nbformat": 4
 },
 "nbformat": 4,
 "nbformat_minor": 2
}
